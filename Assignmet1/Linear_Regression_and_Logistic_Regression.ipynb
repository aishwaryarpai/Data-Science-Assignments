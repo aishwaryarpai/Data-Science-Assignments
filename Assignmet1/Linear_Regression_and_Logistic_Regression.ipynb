{
  "nbformat": 4,
  "nbformat_minor": 0,
  "metadata": {
    "colab": {
      "provenance": []
    },
    "kernelspec": {
      "name": "python3",
      "display_name": "Python 3"
    },
    "language_info": {
      "name": "python"
    }
  },
  "cells": [
    {
      "cell_type": "code",
      "execution_count": null,
      "metadata": {
        "id": "nG-G6exiR1rs"
      },
      "outputs": [],
      "source": [
        "import pandas as pd\n",
        "import numpy as np\n",
        "import seaborn as sns\n",
        "import matplotlib.pyplot as plt\n",
        "from sklearn.linear_model import LinearRegression\n",
        "from sklearn.linear_model import LogisticRegression"
      ]
    },
    {
      "cell_type": "code",
      "source": [
        "dataset=pd.read_csv('/content/breast cancer diagnosis .csv')"
      ],
      "metadata": {
        "id": "_w7niA9Ff5LB"
      },
      "execution_count": 20,
      "outputs": []
    },
    {
      "cell_type": "code",
      "source": [
        "print(dataset.shape)"
      ],
      "metadata": {
        "colab": {
          "base_uri": "https://localhost:8080/"
        },
        "id": "9iwG1QLrgAt7",
        "outputId": "33d0b052-7ffa-4b2e-d9fe-cf397ba76bbf"
      },
      "execution_count": 21,
      "outputs": [
        {
          "output_type": "stream",
          "name": "stdout",
          "text": [
            "(286, 13)\n"
          ]
        }
      ]
    },
    {
      "cell_type": "code",
      "source": [
        "print(dataset.head())"
      ],
      "metadata": {
        "colab": {
          "base_uri": "https://localhost:8080/"
        },
        "id": "jn9vPBJYgLUJ",
        "outputId": "d93d76f5-308c-4c72-d705-866b4116b2db"
      },
      "execution_count": 22,
      "outputs": [
        {
          "output_type": "stream",
          "name": "stdout",
          "text": [
            "   Start Age  End Age menopause  Start tumor size  End tumor size  \\\n",
            "0         40       49   premeno                15              19   \n",
            "1         50       59      ge40                15              19   \n",
            "2         50       59      ge40                35              39   \n",
            "3         40       49   premeno                35              39   \n",
            "4         40       49   premeno                30              34   \n",
            "\n",
            "   Start_env_nodes  end_env_nodes node-caps  deg-malig breast breast-quad  \\\n",
            "0                0              2       yes          3  right     left_up   \n",
            "1                0              2        no          1  right     central   \n",
            "2                0              2        no          2   left    left_low   \n",
            "3                0              2       yes          3  right    left_low   \n",
            "4                3              5       yes          2   left    right_up   \n",
            "\n",
            "  irradiat                 Class  \n",
            "0       no     recurrence-events  \n",
            "1       no  no-recurrence-events  \n",
            "2       no     recurrence-events  \n",
            "3      yes  no-recurrence-events  \n",
            "4       no     recurrence-events  \n"
          ]
        }
      ]
    },
    {
      "cell_type": "code",
      "source": [
        "dataset.info()"
      ],
      "metadata": {
        "colab": {
          "base_uri": "https://localhost:8080/"
        },
        "id": "Ap-KE4DigQ8d",
        "outputId": "5840b98e-6d11-4d12-c4e0-9e9acf8b8300"
      },
      "execution_count": 23,
      "outputs": [
        {
          "output_type": "stream",
          "name": "stdout",
          "text": [
            "<class 'pandas.core.frame.DataFrame'>\n",
            "RangeIndex: 286 entries, 0 to 285\n",
            "Data columns (total 13 columns):\n",
            " #   Column            Non-Null Count  Dtype \n",
            "---  ------            --------------  ----- \n",
            " 0   Start Age         286 non-null    int64 \n",
            " 1   End Age           286 non-null    int64 \n",
            " 2   menopause         286 non-null    object\n",
            " 3   Start tumor size  286 non-null    int64 \n",
            " 4   End tumor size    286 non-null    int64 \n",
            " 5   Start_env_nodes   286 non-null    int64 \n",
            " 6   end_env_nodes     286 non-null    int64 \n",
            " 7   node-caps         278 non-null    object\n",
            " 8   deg-malig         286 non-null    int64 \n",
            " 9   breast            286 non-null    object\n",
            " 10  breast-quad       285 non-null    object\n",
            " 11  irradiat          286 non-null    object\n",
            " 12  Class             286 non-null    object\n",
            "dtypes: int64(7), object(6)\n",
            "memory usage: 29.2+ KB\n"
          ]
        }
      ]
    },
    {
      "cell_type": "code",
      "source": [
        "dataset.isnull().sum()"
      ],
      "metadata": {
        "colab": {
          "base_uri": "https://localhost:8080/"
        },
        "id": "PhMVDuOMgqPu",
        "outputId": "e84df6cd-abc6-4639-9257-401100064bce"
      },
      "execution_count": 24,
      "outputs": [
        {
          "output_type": "execute_result",
          "data": {
            "text/plain": [
              "Start Age           0\n",
              "End Age             0\n",
              "menopause           0\n",
              "Start tumor size    0\n",
              "End tumor size      0\n",
              "Start_env_nodes     0\n",
              "end_env_nodes       0\n",
              "node-caps           8\n",
              "deg-malig           0\n",
              "breast              0\n",
              "breast-quad         1\n",
              "irradiat            0\n",
              "Class               0\n",
              "dtype: int64"
            ]
          },
          "metadata": {},
          "execution_count": 24
        }
      ]
    },
    {
      "cell_type": "code",
      "source": [],
      "metadata": {
        "id": "sle_Mc5_i06x"
      },
      "execution_count": null,
      "outputs": []
    },
    {
      "cell_type": "code",
      "source": [
        "from sklearn import preprocessing\n",
        "label_encoder=preprocessing.LabelEncoder()\n",
        "dataset['Class']=label_encoder.fit_transform(dataset['Class'])\n",
        "dataset['Class'].unique()"
      ],
      "metadata": {
        "colab": {
          "base_uri": "https://localhost:8080/"
        },
        "id": "D8dDm5mhgwPp",
        "outputId": "2ce7f617-2efa-4fea-b521-bb8497db1ab4"
      },
      "execution_count": 25,
      "outputs": [
        {
          "output_type": "execute_result",
          "data": {
            "text/plain": [
              "array([1, 0])"
            ]
          },
          "metadata": {},
          "execution_count": 25
        }
      ]
    },
    {
      "cell_type": "code",
      "source": [
        "from sklearn import preprocessing\n",
        "label_encoder=preprocessing.LabelEncoder()\n",
        "dataset['menopause']=label_encoder.fit_transform(dataset['menopause'])\n",
        "dataset['menopause'].unique()\n",
        "from sklearn import preprocessing\n",
        "label_encoder=preprocessing.LabelEncoder()\n",
        "dataset['node-caps']=label_encoder.fit_transform(dataset['node-caps'])\n",
        "dataset['node-caps'].unique()\n",
        "from sklearn import preprocessing\n",
        "label_encoder=preprocessing.LabelEncoder()\n",
        "dataset['breast']=label_encoder.fit_transform(dataset['breast'])\n",
        "dataset['breast'].unique()"
      ],
      "metadata": {
        "colab": {
          "base_uri": "https://localhost:8080/"
        },
        "id": "9VjMOG2yjELN",
        "outputId": "c2df8b4e-2a4c-463d-d126-9d745ab8a551"
      },
      "execution_count": 26,
      "outputs": [
        {
          "output_type": "execute_result",
          "data": {
            "text/plain": [
              "array([1, 0])"
            ]
          },
          "metadata": {},
          "execution_count": 26
        }
      ]
    },
    {
      "cell_type": "code",
      "source": [
        "from sklearn import preprocessing\n",
        "label_encoder=preprocessing.LabelEncoder()\n",
        "dataset['breast-quad']=label_encoder.fit_transform(dataset['breast-quad'])\n",
        "dataset['breast-quad'].unique()"
      ],
      "metadata": {
        "colab": {
          "base_uri": "https://localhost:8080/"
        },
        "id": "7cLth8u9jlWg",
        "outputId": "c8179eef-2bfe-436c-e6b5-344bfdbef4e3"
      },
      "execution_count": 27,
      "outputs": [
        {
          "output_type": "execute_result",
          "data": {
            "text/plain": [
              "array([2, 0, 1, 4, 3, 5])"
            ]
          },
          "metadata": {},
          "execution_count": 27
        }
      ]
    },
    {
      "cell_type": "code",
      "source": [
        "from sklearn import preprocessing\n",
        "label_encoder=preprocessing.LabelEncoder()\n",
        "dataset['irradiat']=label_encoder.fit_transform(dataset['irradiat'])\n",
        "dataset['irradiat'].unique()"
      ],
      "metadata": {
        "colab": {
          "base_uri": "https://localhost:8080/"
        },
        "id": "RDNjiaMbjwfR",
        "outputId": "df0d5c85-d85b-48ca-a42e-1d3764036733"
      },
      "execution_count": 28,
      "outputs": [
        {
          "output_type": "execute_result",
          "data": {
            "text/plain": [
              "array([0, 1])"
            ]
          },
          "metadata": {},
          "execution_count": 28
        }
      ]
    },
    {
      "cell_type": "code",
      "source": [
        "dataset.info()"
      ],
      "metadata": {
        "colab": {
          "base_uri": "https://localhost:8080/"
        },
        "id": "WZNRYdnUj8y4",
        "outputId": "345626c9-f0d8-45ad-a820-bc2f3b37aca8"
      },
      "execution_count": 29,
      "outputs": [
        {
          "output_type": "stream",
          "name": "stdout",
          "text": [
            "<class 'pandas.core.frame.DataFrame'>\n",
            "RangeIndex: 286 entries, 0 to 285\n",
            "Data columns (total 13 columns):\n",
            " #   Column            Non-Null Count  Dtype\n",
            "---  ------            --------------  -----\n",
            " 0   Start Age         286 non-null    int64\n",
            " 1   End Age           286 non-null    int64\n",
            " 2   menopause         286 non-null    int64\n",
            " 3   Start tumor size  286 non-null    int64\n",
            " 4   End tumor size    286 non-null    int64\n",
            " 5   Start_env_nodes   286 non-null    int64\n",
            " 6   end_env_nodes     286 non-null    int64\n",
            " 7   node-caps         286 non-null    int64\n",
            " 8   deg-malig         286 non-null    int64\n",
            " 9   breast            286 non-null    int64\n",
            " 10  breast-quad       286 non-null    int64\n",
            " 11  irradiat          286 non-null    int64\n",
            " 12  Class             286 non-null    int64\n",
            "dtypes: int64(13)\n",
            "memory usage: 29.2 KB\n"
          ]
        }
      ]
    },
    {
      "cell_type": "code",
      "source": [
        "X=dataset.drop('Class',axis=1)\n",
        "y=dataset['Class']"
      ],
      "metadata": {
        "id": "J6oHvZ2AkAe5"
      },
      "execution_count": 32,
      "outputs": []
    },
    {
      "cell_type": "code",
      "source": [
        "from sklearn.model_selection import train_test_split\n",
        "X_train,X_test,y_train,y_test=train_test_split(X,y,test_size=0.2,train_size=0.8,random_state=0)"
      ],
      "metadata": {
        "id": "pW8i8HZRkRKc"
      },
      "execution_count": 33,
      "outputs": []
    },
    {
      "cell_type": "code",
      "source": [
        "mlr=LinearRegression()\n",
        "mlr.fit(X_train,y_train)"
      ],
      "metadata": {
        "colab": {
          "base_uri": "https://localhost:8080/"
        },
        "id": "NwFP3QOkko8O",
        "outputId": "38b506cb-13da-44c4-92d7-6d2c473e1220"
      },
      "execution_count": 34,
      "outputs": [
        {
          "output_type": "execute_result",
          "data": {
            "text/plain": [
              "LinearRegression()"
            ]
          },
          "metadata": {},
          "execution_count": 34
        }
      ]
    },
    {
      "cell_type": "code",
      "source": [
        "y_pred=mlr.predict(X_test)\n",
        "np.set_printoptions(precision=0)\n",
        "y_pred"
      ],
      "metadata": {
        "colab": {
          "base_uri": "https://localhost:8080/"
        },
        "id": "IicjJ28Tk1Jz",
        "outputId": "2de20b61-f7fd-4280-fd9b-94b17c6d2f09"
      },
      "execution_count": 37,
      "outputs": [
        {
          "output_type": "execute_result",
          "data": {
            "text/plain": [
              "array([ 1.,  1.,  0.,  0.,  0.,  0.,  0.,  1.,  0.,  0.,  0.,  0., -0.,\n",
              "        0.,  1.,  0.,  0.,  0.,  0., -0.,  0.,  0.,  0.,  0.,  0.,  0.,\n",
              "        0.,  0.,  0.,  0.,  0.,  0.,  0.,  0.,  0.,  0.,  0.,  0.,  0.,\n",
              "        0.,  1.,  0.,  0.,  0.,  0.,  0., -0.,  0.,  1.,  0.,  0.,  0.,\n",
              "        1.,  0.,  0.,  0.,  0.,  0.])"
            ]
          },
          "metadata": {},
          "execution_count": 37
        }
      ]
    },
    {
      "cell_type": "code",
      "source": [
        "y_test"
      ],
      "metadata": {
        "colab": {
          "base_uri": "https://localhost:8080/"
        },
        "id": "-Mx9hdrplA_V",
        "outputId": "6a2f950b-7836-437d-b94f-a2de4c48c391"
      },
      "execution_count": 36,
      "outputs": [
        {
          "output_type": "execute_result",
          "data": {
            "text/plain": [
              "55     0\n",
              "181    1\n",
              "92     1\n",
              "207    1\n",
              "188    0\n",
              "45     1\n",
              "111    0\n",
              "239    1\n",
              "15     0\n",
              "22     0\n",
              "267    1\n",
              "194    0\n",
              "12     0\n",
              "81     0\n",
              "63     1\n",
              "191    0\n",
              "225    0\n",
              "171    1\n",
              "201    0\n",
              "136    0\n",
              "154    0\n",
              "236    0\n",
              "101    1\n",
              "280    0\n",
              "106    1\n",
              "110    0\n",
              "218    1\n",
              "227    0\n",
              "126    0\n",
              "285    0\n",
              "213    0\n",
              "8      0\n",
              "5      0\n",
              "200    0\n",
              "90     1\n",
              "281    0\n",
              "97     0\n",
              "103    0\n",
              "7      0\n",
              "64     1\n",
              "73     1\n",
              "159    0\n",
              "179    0\n",
              "205    1\n",
              "241    0\n",
              "124    0\n",
              "158    0\n",
              "208    1\n",
              "74     1\n",
              "270    1\n",
              "59     1\n",
              "279    0\n",
              "271    1\n",
              "222    0\n",
              "76     0\n",
              "150    1\n",
              "252    0\n",
              "20     1\n",
              "Name: Class, dtype: int64"
            ]
          },
          "metadata": {},
          "execution_count": 36
        }
      ]
    },
    {
      "cell_type": "code",
      "source": [
        "lr=LogisticRegression(random_state=0)\n",
        "lr.fit(X_train,y_train)"
      ],
      "metadata": {
        "colab": {
          "base_uri": "https://localhost:8080/"
        },
        "id": "m-AZ11H7lbU3",
        "outputId": "5faacab3-e661-486e-81fe-78fa69c8888d"
      },
      "execution_count": 38,
      "outputs": [
        {
          "output_type": "stream",
          "name": "stderr",
          "text": [
            "/usr/local/lib/python3.7/dist-packages/sklearn/linear_model/_logistic.py:818: ConvergenceWarning: lbfgs failed to converge (status=1):\n",
            "STOP: TOTAL NO. of ITERATIONS REACHED LIMIT.\n",
            "\n",
            "Increase the number of iterations (max_iter) or scale the data as shown in:\n",
            "    https://scikit-learn.org/stable/modules/preprocessing.html\n",
            "Please also refer to the documentation for alternative solver options:\n",
            "    https://scikit-learn.org/stable/modules/linear_model.html#logistic-regression\n",
            "  extra_warning_msg=_LOGISTIC_SOLVER_CONVERGENCE_MSG,\n"
          ]
        },
        {
          "output_type": "execute_result",
          "data": {
            "text/plain": [
              "LogisticRegression(random_state=0)"
            ]
          },
          "metadata": {},
          "execution_count": 38
        }
      ]
    },
    {
      "cell_type": "code",
      "source": [
        "y_pred1=lr.predict(X_test)\n",
        "y_pred1"
      ],
      "metadata": {
        "colab": {
          "base_uri": "https://localhost:8080/"
        },
        "id": "diFFZZTcl7YT",
        "outputId": "bbdf1361-5094-44e3-b31e-c7df0fb4efce"
      },
      "execution_count": 41,
      "outputs": [
        {
          "output_type": "execute_result",
          "data": {
            "text/plain": [
              "array([1, 0, 0, 0, 0, 1, 0, 1, 0, 0, 0, 0, 0, 0, 1, 0, 0, 0, 0, 0, 0, 0,\n",
              "       0, 0, 0, 0, 0, 0, 0, 0, 0, 0, 0, 0, 0, 0, 0, 0, 0, 0, 1, 0, 0, 0,\n",
              "       0, 0, 0, 0, 1, 0, 0, 0, 1, 0, 0, 0, 0, 0])"
            ]
          },
          "metadata": {},
          "execution_count": 41
        }
      ]
    },
    {
      "cell_type": "code",
      "source": [
        "y_test"
      ],
      "metadata": {
        "colab": {
          "base_uri": "https://localhost:8080/"
        },
        "id": "yGgwoWazmFqc",
        "outputId": "08010e77-ad48-4f40-a621-13c80ecc41ff"
      },
      "execution_count": 42,
      "outputs": [
        {
          "output_type": "execute_result",
          "data": {
            "text/plain": [
              "55     0\n",
              "181    1\n",
              "92     1\n",
              "207    1\n",
              "188    0\n",
              "45     1\n",
              "111    0\n",
              "239    1\n",
              "15     0\n",
              "22     0\n",
              "267    1\n",
              "194    0\n",
              "12     0\n",
              "81     0\n",
              "63     1\n",
              "191    0\n",
              "225    0\n",
              "171    1\n",
              "201    0\n",
              "136    0\n",
              "154    0\n",
              "236    0\n",
              "101    1\n",
              "280    0\n",
              "106    1\n",
              "110    0\n",
              "218    1\n",
              "227    0\n",
              "126    0\n",
              "285    0\n",
              "213    0\n",
              "8      0\n",
              "5      0\n",
              "200    0\n",
              "90     1\n",
              "281    0\n",
              "97     0\n",
              "103    0\n",
              "7      0\n",
              "64     1\n",
              "73     1\n",
              "159    0\n",
              "179    0\n",
              "205    1\n",
              "241    0\n",
              "124    0\n",
              "158    0\n",
              "208    1\n",
              "74     1\n",
              "270    1\n",
              "59     1\n",
              "279    0\n",
              "271    1\n",
              "222    0\n",
              "76     0\n",
              "150    1\n",
              "252    0\n",
              "20     1\n",
              "Name: Class, dtype: int64"
            ]
          },
          "metadata": {},
          "execution_count": 42
        }
      ]
    },
    {
      "cell_type": "code",
      "source": [
        "from sklearn import metrics\n",
        "from sklearn.metrics import confusion_matrix\n",
        "cm1= confusion_matrix(y_test,y_pred)\n",
        "cm2= confusion_matrix(y_test,y_pred1)\n",
        "print(\"Confusin Matrix: \")\n",
        "print(cm1)\n",
        "print(cm2)"
      ],
      "metadata": {
        "colab": {
          "base_uri": "https://localhost:8080/"
        },
        "id": "km_JU8Q2mJdS",
        "outputId": "82122640-6ddf-41ca-8c57-80c58b6f8243"
      },
      "execution_count": 43,
      "outputs": [
        {
          "output_type": "stream",
          "name": "stdout",
          "text": [
            "Confusin Matrix: \n",
            "[[35  1]\n",
            " [16  6]]\n",
            "[[35  1]\n",
            " [16  6]]\n"
          ]
        }
      ]
    },
    {
      "cell_type": "code",
      "source": [
        "print(\"Accuracy:\",metrics.accuracy_score(y_test, y_pred))"
      ],
      "metadata": {
        "colab": {
          "base_uri": "https://localhost:8080/"
        },
        "id": "TJytg90jmg69",
        "outputId": "ee6cf341-9ebd-4914-a4be-4866cac984e3"
      },
      "execution_count": 44,
      "outputs": [
        {
          "output_type": "stream",
          "name": "stdout",
          "text": [
            "Accuracy: 0.7068965517241379\n"
          ]
        }
      ]
    },
    {
      "cell_type": "code",
      "source": [
        "print(\"Accuracy:\",metrics.accuracy_score(y_test, y_pred1))"
      ],
      "metadata": {
        "colab": {
          "base_uri": "https://localhost:8080/"
        },
        "id": "-MRM3sZNmnk0",
        "outputId": "b7708ff1-dfd3-4b9a-f27a-4c5a262a4de3"
      },
      "execution_count": 45,
      "outputs": [
        {
          "output_type": "stream",
          "name": "stdout",
          "text": [
            "Accuracy: 0.7068965517241379\n"
          ]
        }
      ]
    },
    {
      "cell_type": "code",
      "source": [
        "from sklearn.metrics import roc_curve, auc\n",
        "false_positive_rate, true_positive_rate, thresholds = roc_curve(y_test, y_pred)\n",
        "roc_auc = auc(false_positive_rate, true_positive_rate)\n",
        "print(roc_auc)\n",
        "plt.plot(false_positive_rate,true_positive_rate)"
      ],
      "metadata": {
        "colab": {
          "base_uri": "https://localhost:8080/",
          "height": 300
        },
        "id": "fXYlHlMJmvK5",
        "outputId": "e3e249fa-ce1c-4639-d19f-653673cc65a3"
      },
      "execution_count": 47,
      "outputs": [
        {
          "output_type": "stream",
          "name": "stdout",
          "text": [
            "0.6224747474747474\n"
          ]
        },
        {
          "output_type": "execute_result",
          "data": {
            "text/plain": [
              "[<matplotlib.lines.Line2D at 0x7fc10bf660d0>]"
            ]
          },
          "metadata": {},
          "execution_count": 47
        },
        {
          "output_type": "display_data",
          "data": {
            "text/plain": [
              "<Figure size 432x288 with 1 Axes>"
            ],
            "image/png": "[encoded data removed]"
          },
          "metadata": {
            "needs_background": "light"
          }
        }
      ]
    },
    {
      "cell_type": "code",
      "source": [
        "from sklearn.metrics import roc_curve, auc\n",
        "false_positive_rate, true_positive_rate, thresholds = roc_curve(y_test, y_pred1)\n",
        "roc_auc = auc(false_positive_rate, true_positive_rate)\n",
        "print(roc_auc)\n",
        "plt.plot(false_positive_rate,true_positive_rate)"
      ],
      "metadata": {
        "colab": {
          "base_uri": "https://localhost:8080/",
          "height": 300
        },
        "id": "aRBPCHQim16T",
        "outputId": "f7a758a4-9d95-4302-850a-f52be3f7f35b"
      },
      "execution_count": 48,
      "outputs": [
        {
          "output_type": "stream",
          "name": "stdout",
          "text": [
            "0.6224747474747474\n"
          ]
        },
        {
          "output_type": "execute_result",
          "data": {
            "text/plain": [
              "[<matplotlib.lines.Line2D at 0x7fc10bf353d0>]"
            ]
          },
          "metadata": {},
          "execution_count": 48
        },
        {
          "output_type": "display_data",
          "data": {
            "text/plain": [
              "<Figure size 432x288 with 1 Axes>"
            ],
            "image/png": "[encoded data removed]"
          },
          "metadata": {
            "needs_background": "light"
          }
        }
      ]
    }
  ]
}