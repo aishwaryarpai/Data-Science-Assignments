{
  "nbformat": 4,
  "nbformat_minor": 0,
  "metadata": {
    "colab": {
      "provenance": []
    },
    "kernelspec": {
      "name": "python3",
      "display_name": "Python 3"
    },
    "language_info": {
      "name": "python"
    }
  },
  "cells": [
    {
      "cell_type": "code",
      "execution_count": 1,
      "metadata": {
        "id": "NMM1Hb4hP_JE"
      },
      "outputs": [],
      "source": [
        "from tensorflow import keras\n",
        "import matplotlib.pyplot as plt"
      ]
    },
    {
      "cell_type": "code",
      "source": [
        "from sklearn.metrics import accuracy_score,confusion_matrix,classification_report\n",
        "import numpy as np"
      ],
      "metadata": {
        "id": "wn2q8oUiQEK6"
      },
      "execution_count": 2,
      "outputs": []
    },
    {
      "cell_type": "code",
      "source": [
        "import cv2\n",
        "from sklearn import metrics"
      ],
      "metadata": {
        "id": "e-dpVLAIQIbN"
      },
      "execution_count": 3,
      "outputs": []
    },
    {
      "cell_type": "code",
      "source": [
        "(x_train, y_train), (x_test, y_test) = keras.datasets.cifar10.load_data()"
      ],
      "metadata": {
        "colab": {
          "base_uri": "https://localhost:8080/"
        },
        "id": "MuTgl5eFQPOl",
        "outputId": "31d6280f-5f4f-4cf4-97be-f59c9f5d81aa"
      },
      "execution_count": 4,
      "outputs": [
        {
          "output_type": "stream",
          "name": "stdout",
          "text": [
            "Downloading data from https://www.cs.toronto.edu/~kriz/cifar-10-python.tar.gz\n",
            "170500096/170498071 [==============================] - 4s 0us/step\n",
            "170508288/170498071 [==============================] - 4s 0us/step\n"
          ]
        }
      ]
    },
    {
      "cell_type": "code",
      "source": [
        "x_train.shape,x_test.shape"
      ],
      "metadata": {
        "colab": {
          "base_uri": "https://localhost:8080/"
        },
        "id": "7uuVroR9QTYy",
        "outputId": "0359d125-cf3b-4653-ebfe-e982e7329702"
      },
      "execution_count": 5,
      "outputs": [
        {
          "output_type": "execute_result",
          "data": {
            "text/plain": [
              "((50000, 32, 32, 3), (10000, 32, 32, 3))"
            ]
          },
          "metadata": {},
          "execution_count": 5
        }
      ]
    },
    {
      "cell_type": "code",
      "source": [
        "# Normalization\n",
        "x_train = x_train/255.0\n",
        "x_test = x_test/255.0"
      ],
      "metadata": {
        "id": "2SbAHCypQW_T"
      },
      "execution_count": 6,
      "outputs": []
    },
    {
      "cell_type": "code",
      "source": [
        "nsamples, nx, ny, nrgb = x_train.shape\n",
        "x_train2 = x_train.reshape((nsamples,nx*ny*nrgb))\n",
        "x_train2"
      ],
      "metadata": {
        "colab": {
          "base_uri": "https://localhost:8080/"
        },
        "id": "hZiMd8eUQd8t",
        "outputId": "969d7ede-48a7-4186-cbbd-38e6bea09aea"
      },
      "execution_count": 7,
      "outputs": [
        {
          "output_type": "execute_result",
          "data": {
            "text/plain": [
              "array([[0.23137255, 0.24313725, 0.24705882, ..., 0.48235294, 0.36078431,\n",
              "        0.28235294],\n",
              "       [0.60392157, 0.69411765, 0.73333333, ..., 0.56078431, 0.52156863,\n",
              "        0.56470588],\n",
              "       [1.        , 1.        , 1.        , ..., 0.31372549, 0.3372549 ,\n",
              "        0.32941176],\n",
              "       ...,\n",
              "       [0.1372549 , 0.69803922, 0.92156863, ..., 0.04705882, 0.12156863,\n",
              "        0.19607843],\n",
              "       [0.74117647, 0.82745098, 0.94117647, ..., 0.76470588, 0.74509804,\n",
              "        0.67058824],\n",
              "       [0.89803922, 0.89803922, 0.9372549 , ..., 0.63921569, 0.63921569,\n",
              "        0.63137255]])"
            ]
          },
          "metadata": {},
          "execution_count": 7
        }
      ]
    },
    {
      "cell_type": "code",
      "source": [
        "nsamples, nx, ny, nrgb = x_test.shape\n",
        "x_test2 = x_test.reshape((nsamples,nx*ny*nrgb))\n",
        "x_test2"
      ],
      "metadata": {
        "colab": {
          "base_uri": "https://localhost:8080/"
        },
        "id": "dJpBjazYQiZV",
        "outputId": "ff4e1a6e-dcb8-4c5f-ed01-c8f2ecfdf4f1"
      },
      "execution_count": 8,
      "outputs": [
        {
          "output_type": "execute_result",
          "data": {
            "text/plain": [
              "array([[0.61960784, 0.43921569, 0.19215686, ..., 0.08235294, 0.2627451 ,\n",
              "        0.43137255],\n",
              "       [0.92156863, 0.92156863, 0.92156863, ..., 0.72941176, 0.78431373,\n",
              "        0.78039216],\n",
              "       [0.61960784, 0.74509804, 0.87058824, ..., 0.02745098, 0.03137255,\n",
              "        0.02745098],\n",
              "       ...,\n",
              "       [0.07843137, 0.05882353, 0.04705882, ..., 0.09803922, 0.07843137,\n",
              "        0.18431373],\n",
              "       [0.09803922, 0.15686275, 0.04705882, ..., 0.36078431, 0.47058824,\n",
              "        0.31372549],\n",
              "       [0.28627451, 0.30588235, 0.29411765, ..., 0.10588235, 0.10196078,\n",
              "        0.10196078]])"
            ]
          },
          "metadata": {},
          "execution_count": 8
        }
      ]
    },
    {
      "cell_type": "code",
      "source": [
        "y_train"
      ],
      "metadata": {
        "colab": {
          "base_uri": "https://localhost:8080/"
        },
        "id": "fk9RF3OeQmga",
        "outputId": "84da0f63-9584-47fc-84b0-5944cc8e5835"
      },
      "execution_count": 9,
      "outputs": [
        {
          "output_type": "execute_result",
          "data": {
            "text/plain": [
              "array([[6],\n",
              "       [9],\n",
              "       [9],\n",
              "       ...,\n",
              "       [9],\n",
              "       [1],\n",
              "       [1]], dtype=uint8)"
            ]
          },
          "metadata": {},
          "execution_count": 9
        }
      ]
    },
    {
      "cell_type": "code",
      "source": [
        "from sklearn.ensemble import RandomForestClassifier"
      ],
      "metadata": {
        "id": "bunUojNBRCQB"
      },
      "execution_count": 10,
      "outputs": []
    },
    {
      "cell_type": "code",
      "source": [
        "model=RandomForestClassifier()"
      ],
      "metadata": {
        "id": "ta7fdi8MRDdU"
      },
      "execution_count": 14,
      "outputs": []
    },
    {
      "cell_type": "code",
      "source": [
        "model.fit(x_train2,y_train.ravel())"
      ],
      "metadata": {
        "colab": {
          "base_uri": "https://localhost:8080/"
        },
        "id": "EtFkyeuWSbkS",
        "outputId": "3a828ba7-2a2e-456a-81ed-8d8cbf783b11"
      },
      "execution_count": 15,
      "outputs": [
        {
          "output_type": "execute_result",
          "data": {
            "text/plain": [
              "RandomForestClassifier()"
            ]
          },
          "metadata": {},
          "execution_count": 15
        }
      ]
    },
    {
      "cell_type": "code",
      "source": [
        "y_pred=model.predict(x_test2)\n",
        "y_pred"
      ],
      "metadata": {
        "colab": {
          "base_uri": "https://localhost:8080/"
        },
        "id": "p0RKhoSORMqu",
        "outputId": "4e1f89d1-8506-4e86-9d5e-bce75ba3ae6c"
      },
      "execution_count": 16,
      "outputs": [
        {
          "output_type": "execute_result",
          "data": {
            "text/plain": [
              "array([4, 8, 8, ..., 3, 5, 7], dtype=uint8)"
            ]
          },
          "metadata": {},
          "execution_count": 16
        }
      ]
    },
    {
      "cell_type": "code",
      "source": [
        "#Random Forest Classifier\n",
        "accuracy_score(y_pred,y_test)\n",
        "print('Accuracy Score: ',accuracy_score)\n",
        "print(classification_report(y_pred,y_test))\n",
        "cm1 =confusion_matrix(y_pred,y_test)\n",
        "print('Confusion Matrix: ',cm1)"
      ],
      "metadata": {
        "colab": {
          "base_uri": "https://localhost:8080/"
        },
        "id": "prF1NLyVRPnc",
        "outputId": "f70421b9-01f1-405a-e4fd-61b9e1210ff5"
      },
      "execution_count": 17,
      "outputs": [
        {
          "output_type": "stream",
          "name": "stdout",
          "text": [
            "Accuracy Score:  <function accuracy_score at 0x7f7ccc77c5f0>\n",
            "              precision    recall  f1-score   support\n",
            "\n",
            "           0       0.55      0.54      0.54      1031\n",
            "           1       0.54      0.50      0.52      1090\n",
            "           2       0.34      0.39      0.36       877\n",
            "           3       0.28      0.35      0.31       810\n",
            "           4       0.42      0.42      0.42      1002\n",
            "           5       0.40      0.43      0.41       929\n",
            "           6       0.56      0.47      0.52      1190\n",
            "           7       0.45      0.50      0.47       887\n",
            "           8       0.61      0.58      0.60      1066\n",
            "           9       0.53      0.48      0.50      1118\n",
            "\n",
            "    accuracy                           0.47     10000\n",
            "   macro avg       0.47      0.46      0.47     10000\n",
            "weighted avg       0.48      0.47      0.47     10000\n",
            "\n",
            "Confusion Matrix:  [[553  31 107  56  54  36  11  47  89  47]\n",
            " [ 39 542  38  48  30  33  36  54  96 174]\n",
            " [ 55  15 340  71 146  85  87  47  17  14]\n",
            " [ 13  31  78 281  53 139  79  68  26  42]\n",
            " [ 30  17 137  72 416  84 107  92  25  22]\n",
            " [ 21  31  63 188  44 397  51  83  31  20]\n",
            " [ 26  48 119 138 136  77 565  46  11  24]\n",
            " [ 28  38  63  58  80  93  22 446  17  42]\n",
            " [176  66  26  18  19  28   8  28 615  82]\n",
            " [ 59 181  29  70  22  28  34  89  73 533]]\n"
          ]
        }
      ]
    },
    {
      "cell_type": "code",
      "source": [
        "from sklearn.neighbors import KNeighborsClassifier\n",
        "knn = KNeighborsClassifier(n_neighbors=7)\n",
        "knn.fit(x_train2,y_train)"
      ],
      "metadata": {
        "colab": {
          "base_uri": "https://localhost:8080/"
        },
        "id": "Pq_KcT_mSIxq",
        "outputId": "65dc3d3f-b752-4243-ac64-6d017ae61bbd"
      },
      "execution_count": 18,
      "outputs": [
        {
          "output_type": "stream",
          "name": "stderr",
          "text": [
            "/usr/local/lib/python3.7/dist-packages/sklearn/neighbors/_classification.py:198: DataConversionWarning: A column-vector y was passed when a 1d array was expected. Please change the shape of y to (n_samples,), for example using ravel().\n",
            "  return self._fit(X, y)\n"
          ]
        },
        {
          "output_type": "execute_result",
          "data": {
            "text/plain": [
              "KNeighborsClassifier(n_neighbors=7)"
            ]
          },
          "metadata": {},
          "execution_count": 18
        }
      ]
    },
    {
      "cell_type": "code",
      "source": [
        "y_pred_knn = knn.predict(x_test2)\n",
        "y_pred_knn"
      ],
      "metadata": {
        "colab": {
          "base_uri": "https://localhost:8080/"
        },
        "id": "S267NLtcTa-b",
        "outputId": "9db74e25-0e42-4ca8-9001-47e925ead4e2"
      },
      "execution_count": 19,
      "outputs": [
        {
          "output_type": "execute_result",
          "data": {
            "text/plain": [
              "array([2, 8, 8, ..., 5, 6, 4], dtype=uint8)"
            ]
          },
          "metadata": {},
          "execution_count": 19
        }
      ]
    },
    {
      "cell_type": "code",
      "source": [
        "#K Nearest Neighbours\n",
        "accuracy_score(y_pred_knn,y_test)\n",
        "print('Accuracy Score: ',accuracy_score)\n",
        "print(classification_report(y_pred_knn,y_test))\n",
        "cm2 = confusion_matrix(y_pred_knn,y_test)\n",
        "print('Confusion Matrix: ',cm2)"
      ],
      "metadata": {
        "colab": {
          "base_uri": "https://localhost:8080/"
        },
        "id": "oKLyIw_zTfZv",
        "outputId": "f572eaa9-b8a1-45b1-d41c-7e6603a92642"
      },
      "execution_count": 20,
      "outputs": [
        {
          "output_type": "stream",
          "name": "stdout",
          "text": [
            "Accuracy Score:  <function accuracy_score at 0x7f7ccc77c5f0>\n",
            "              precision    recall  f1-score   support\n",
            "\n",
            "           0       0.52      0.40      0.45      1299\n",
            "           1       0.20      0.70      0.30       280\n",
            "           2       0.44      0.22      0.29      2013\n",
            "           3       0.20      0.28      0.23       707\n",
            "           4       0.52      0.23      0.32      2222\n",
            "           5       0.20      0.40      0.27       504\n",
            "           6       0.27      0.35      0.30       761\n",
            "           7       0.20      0.70      0.31       281\n",
            "           8       0.69      0.39      0.50      1749\n",
            "           9       0.14      0.73      0.23       184\n",
            "\n",
            "    accuracy                           0.34     10000\n",
            "   macro avg       0.34      0.44      0.32     10000\n",
            "weighted avg       0.45      0.34      0.35     10000\n",
            "\n",
            "Confusion Matrix:  [[518 118 110  66  60  63  22  78 112 152]\n",
            " [  7 195   2   5   0   2   1   8  10  50]\n",
            " [118 124 437 243 268 225 271 185  47  95]\n",
            " [ 12  51  50 199  33 156  56  57  34  59]\n",
            " [ 46 173 250 214 521 201 319 294  69 135]\n",
            " [  5  32  24 102  14 204  32  60  12  19]\n",
            " [ 30  55  65 108  44  80 265  48  14  52]\n",
            " [  5   8   7  11  11  10   1 196   7  25]\n",
            " [255 223  53  51  48  53  32  68 688 278]\n",
            " [  4  21   2   1   1   6   1   6   7 135]]\n"
          ]
        }
      ]
    }
  ]
}